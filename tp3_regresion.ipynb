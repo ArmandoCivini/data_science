{
  "nbformat": 4,
  "nbformat_minor": 0,
  "metadata": {
    "colab": {
      "provenance": []
    },
    "kernelspec": {
      "name": "python3",
      "display_name": "Python 3"
    },
    "language_info": {
      "name": "python"
    }
  },
  "cells": [
    {
      "cell_type": "code",
      "metadata": {
        "id": "qLSslks_SmeR"
      },
      "source": [
        "  import pandas as pd\n",
        "from pydrive.auth import GoogleAuth\n",
        "from pydrive.drive import GoogleDrive\n",
        "from google.colab import auth\n",
        "from oauth2client.client import GoogleCredentials\n",
        "import datetime\n",
        "\n",
        "auth.authenticate_user()\n",
        "gauth = GoogleAuth()\n",
        "gauth.credentials = GoogleCredentials.get_application_default()\n",
        "drive = GoogleDrive(gauth)\n",
        "\n",
        "id='1ji0Stj7xl4HWKYptkDCibEE2XHYyF6Wl'\n",
        "downloaded = drive.CreateFile({'id': id})\n",
        "\n",
        "downloaded.GetContentFile('train_transaction.csv')\n",
        "\n",
        "df = pd.read_csv('train_transaction.csv')\n",
        "\n",
        "id='1h5nClzzoNaX4t5rpvKbs1djxAM_VRI81'\n",
        "downloaded = drive.CreateFile({'id': id})\n",
        "\n",
        "downloaded.GetContentFile('train_identity.csv')\n",
        "\n",
        "df_id = pd.read_csv('train_identity.csv')\n",
        "\n",
        "id='16KBWbCNC_AEpn_lqtmtDfDfsoLsX6wDK'\n",
        "downloaded = drive.CreateFile({'id': id})\n",
        "\n",
        "downloaded.GetContentFile('test_transaction.csv')\n",
        "\n",
        "df_test = pd.read_csv('test_transaction.csv')\n",
        "\n",
        "id='1Z0MEgka6hlAm-qd5Gh-fk9zLiMfOaZ0c'\n",
        "downloaded = drive.CreateFile({'id': id})\n",
        "\n",
        "downloaded.GetContentFile('test_identity.csv')\n",
        "\n",
        "df_id_test = pd.read_csv('test_identity.csv')"
      ],
      "execution_count": null,
      "outputs": []
    },
    {
      "cell_type": "code",
      "metadata": {
        "id": "4PRzLrLpXz68"
      },
      "source": [
        "df = df.join(df_id.set_index('TransactionID'), on='TransactionID', how='outer')\n",
        "df_test = df_test.join(df_id_test.set_index('TransactionID'), on='TransactionID', how='outer')"
      ],
      "execution_count": null,
      "outputs": []
    },
    {
      "cell_type": "code",
      "metadata": {
        "id": "zNGZhwjkfanG"
      },
      "source": [
        "split = int(df.shape[0] * 0.8)# 80-20 train validation split\n",
        "train = df.iloc[:split,:]\n",
        "validation = df.iloc[split:,:]\n",
        "#train set is the uper rows and validation the lower ones as the dataframe is sorted by time\n",
        "#this prevents future information to predict the past"
      ],
      "execution_count": null,
      "outputs": []
    },
    {
      "cell_type": "code",
      "metadata": {
        "id": "y4jAlcmJXdNW"
      },
      "source": [
        "#replaces the names on the columns from the test set by the ones in the train set\n",
        "#test set has the same columns except isFraud this is just because of spelling errors\n",
        "import numpy as np\n",
        "columns_true = list(train.columns)\n",
        "columns_true.pop(1)\n",
        "columns_dict = {}\n",
        "columns_false = list(df_test.columns)\n",
        "for i, v in enumerate(columns_true):\n",
        "  columns_dict[columns_false[i]] = v \n",
        "df_test.rename(columns=columns_dict, inplace=True)"
      ],
      "execution_count": null,
      "outputs": []
    },
    {
      "cell_type": "code",
      "metadata": {
        "colab": {
          "base_uri": "https://localhost:8080/"
        },
        "id": "oBw-lbBIpWC9",
        "outputId": "5c310493-c3f9-40c0-80a3-2d9a81e80bb1"
      },
      "source": [
        "import gc\n",
        "df = None\n",
        "gc.collect()"
      ],
      "execution_count": null,
      "outputs": [
        {
          "output_type": "execute_result",
          "data": {
            "text/plain": [
              "222"
            ]
          },
          "metadata": {},
          "execution_count": 5
        }
      ]
    },
    {
      "cell_type": "code",
      "metadata": {
        "id": "1PvNJTndwAQq"
      },
      "source": [
        "pd.options.mode.chained_assignment = None"
      ],
      "execution_count": null,
      "outputs": []
    },
    {
      "cell_type": "code",
      "metadata": {
        "id": "uHnMTG5nVN3n"
      },
      "source": [
        "#mean encoding for every object column\n",
        "#makes NaN a category by making it a string\n",
        "for column in train:\n",
        "  if train[column].dtype == 'object':\n",
        "    train[column] = train[column].fillna('NaN')\n",
        "    validation[column] = validation[column].fillna('NaN')\n",
        "    df_test[column] = df_test[column].fillna('NaN')\n",
        "    mean_dict = dict(train.groupby(column)['isFraud'].mean())\n",
        "    train.replace({column : mean_dict},inplace=True)\n",
        "    validation.replace({column : mean_dict},inplace=True) #instead of mean encoding the validation set with its own data it encodes it with trains data\n",
        "    df_test.replace({column : mean_dict},inplace=True) #same here"
      ],
      "execution_count": null,
      "outputs": []
    },
    {
      "cell_type": "code",
      "metadata": {
        "id": "LPl9S6j6Xp9_"
      },
      "source": [
        "#fill NaN values in numeric columns with the average of that column\n",
        "column_means = train.mean()\n",
        "train = train.fillna(column_means)\n",
        "validation = validation.fillna(column_means)\n",
        "column_means.drop(column_means.index[1]) #remove 'isFraud' mean\n",
        "df_test = df_test.fillna(column_means)"
      ],
      "execution_count": null,
      "outputs": []
    },
    {
      "cell_type": "code",
      "metadata": {
        "id": "J63hn73BZesG"
      },
      "source": [
        "#split target from features and remove unique ids\n",
        "train_target = train['isFraud'].copy()\n",
        "validation_target = validation['isFraud'].copy()\n",
        "train = train.drop(['TransactionID', 'isFraud'], axis=1)\n",
        "validation = validation.drop(['TransactionID', 'isFraud'], axis=1)\n",
        "df_test_t_id = df_test['TransactionID'].copy()\n",
        "df_test = df_test.drop(['TransactionID'], axis=1)"
      ],
      "execution_count": null,
      "outputs": []
    },
    {
      "cell_type": "code",
      "metadata": {
        "colab": {
          "base_uri": "https://localhost:8080/"
        },
        "id": "9Pn8t7R_Ftjb",
        "outputId": "395d6823-6968-4cdf-bd2a-3a916d4ae956"
      },
      "source": [
        "gc.collect()"
      ],
      "execution_count": null,
      "outputs": [
        {
          "output_type": "execute_result",
          "data": {
            "text/plain": [
              "100"
            ]
          },
          "metadata": {},
          "execution_count": 10
        }
      ]
    },
    {
      "cell_type": "code",
      "metadata": {
        "colab": {
          "base_uri": "https://localhost:8080/"
        },
        "id": "v3iiDp1Mk_ph",
        "outputId": "12953c37-9437-445b-f667-5ab1f71557ef"
      },
      "source": [
        "#trains model, seed is used to guarantee reproducibility\n",
        "from sklearn.linear_model import LogisticRegression\n",
        "from sklearn.model_selection import RandomizedSearchCV\n",
        "model = LogisticRegression(random_state=54836, max_iter=2000)\n",
        "penalty = ['none', 'l2']\n",
        "solver = ['lbfgs', 'liblinear']\n",
        "hp = dict(penalty=penalty, solver=solver)\n",
        "search = RandomizedSearchCV(model, hp, n_iter=200, scoring='roc_auc', n_jobs=1, cv=2, random_state=54836, verbose=10)\n",
        "search.fit(train, train_target)"
      ],
      "execution_count": null,
      "outputs": [
        {
          "output_type": "stream",
          "name": "stderr",
          "text": [
            "/usr/local/lib/python3.7/dist-packages/sklearn/model_selection/_search.py:296: UserWarning: The total space of parameters 4 is smaller than n_iter=200. Running 4 iterations. For exhaustive searches, use GridSearchCV.\n",
            "  UserWarning,\n"
          ]
        },
        {
          "output_type": "stream",
          "name": "stdout",
          "text": [
            "Fitting 2 folds for each of 4 candidates, totalling 8 fits\n",
            "[CV 1/2; 1/4] START penalty=none, solver=lbfgs..................................\n",
            "[CV 1/2; 1/4] END ...penalty=none, solver=lbfgs;, score=0.665 total time=  33.3s\n",
            "[CV 2/2; 1/4] START penalty=none, solver=lbfgs..................................\n"
          ]
        },
        {
          "output_type": "stream",
          "name": "stderr",
          "text": [
            "/usr/local/lib/python3.7/dist-packages/sklearn/linear_model/_logistic.py:818: ConvergenceWarning: lbfgs failed to converge (status=1):\n",
            "STOP: TOTAL NO. of ITERATIONS REACHED LIMIT.\n",
            "\n",
            "Increase the number of iterations (max_iter) or scale the data as shown in:\n",
            "    https://scikit-learn.org/stable/modules/preprocessing.html\n",
            "Please also refer to the documentation for alternative solver options:\n",
            "    https://scikit-learn.org/stable/modules/linear_model.html#logistic-regression\n",
            "  extra_warning_msg=_LOGISTIC_SOLVER_CONVERGENCE_MSG,\n"
          ]
        },
        {
          "output_type": "stream",
          "name": "stdout",
          "text": [
            "[CV 2/2; 1/4] END ...penalty=none, solver=lbfgs;, score=0.700 total time= 6.3min\n",
            "[CV 1/2; 2/4] START penalty=none, solver=liblinear..............................\n",
            "[CV 1/2; 2/4] END .penalty=none, solver=liblinear;, score=nan total time=   1.7s\n",
            "[CV 2/2; 2/4] START penalty=none, solver=liblinear..............................\n",
            "[CV 2/2; 2/4] END .penalty=none, solver=liblinear;, score=nan total time=   0.5s\n",
            "[CV 1/2; 3/4] START penalty=l2, solver=lbfgs....................................\n",
            "[CV 1/2; 3/4] END .....penalty=l2, solver=lbfgs;, score=0.665 total time=  41.8s\n",
            "[CV 2/2; 3/4] START penalty=l2, solver=lbfgs....................................\n"
          ]
        },
        {
          "output_type": "stream",
          "name": "stderr",
          "text": [
            "/usr/local/lib/python3.7/dist-packages/sklearn/linear_model/_logistic.py:818: ConvergenceWarning: lbfgs failed to converge (status=1):\n",
            "STOP: TOTAL NO. of ITERATIONS REACHED LIMIT.\n",
            "\n",
            "Increase the number of iterations (max_iter) or scale the data as shown in:\n",
            "    https://scikit-learn.org/stable/modules/preprocessing.html\n",
            "Please also refer to the documentation for alternative solver options:\n",
            "    https://scikit-learn.org/stable/modules/linear_model.html#logistic-regression\n",
            "  extra_warning_msg=_LOGISTIC_SOLVER_CONVERGENCE_MSG,\n"
          ]
        },
        {
          "output_type": "stream",
          "name": "stdout",
          "text": [
            "[CV 2/2; 3/4] END .....penalty=l2, solver=lbfgs;, score=0.722 total time= 6.4min\n",
            "[CV 1/2; 4/4] START penalty=l2, solver=liblinear................................\n",
            "[CV 1/2; 4/4] END .penalty=l2, solver=liblinear;, score=0.504 total time=  22.7s\n",
            "[CV 2/2; 4/4] START penalty=l2, solver=liblinear................................\n",
            "[CV 2/2; 4/4] END .penalty=l2, solver=liblinear;, score=0.713 total time= 3.3min\n"
          ]
        },
        {
          "output_type": "stream",
          "name": "stderr",
          "text": [
            "/usr/local/lib/python3.7/dist-packages/sklearn/model_selection/_validation.py:372: FitFailedWarning: \n",
            "2 fits failed out of a total of 8.\n",
            "The score on these train-test partitions for these parameters will be set to nan.\n",
            "If these failures are not expected, you can try to debug them by setting error_score='raise'.\n",
            "\n",
            "Below are more details about the failures:\n",
            "--------------------------------------------------------------------------------\n",
            "2 fits failed with the following error:\n",
            "Traceback (most recent call last):\n",
            "  File \"/usr/local/lib/python3.7/dist-packages/sklearn/model_selection/_validation.py\", line 681, in _fit_and_score\n",
            "    estimator.fit(X_train, y_train, **fit_params)\n",
            "  File \"/usr/local/lib/python3.7/dist-packages/sklearn/linear_model/_logistic.py\", line 1461, in fit\n",
            "    solver = _check_solver(self.solver, self.penalty, self.dual)\n",
            "  File \"/usr/local/lib/python3.7/dist-packages/sklearn/linear_model/_logistic.py\", line 464, in _check_solver\n",
            "    raise ValueError(\"penalty='none' is not supported for the liblinear solver\")\n",
            "ValueError: penalty='none' is not supported for the liblinear solver\n",
            "\n",
            "  warnings.warn(some_fits_failed_message, FitFailedWarning)\n",
            "/usr/local/lib/python3.7/dist-packages/sklearn/model_selection/_search.py:972: UserWarning: One or more of the test scores are non-finite: [0.68266025        nan 0.69320974 0.60818001]\n",
            "  category=UserWarning,\n"
          ]
        },
        {
          "output_type": "execute_result",
          "data": {
            "text/plain": [
              "RandomizedSearchCV(cv=2,\n",
              "                   estimator=LogisticRegression(max_iter=2000,\n",
              "                                                random_state=54836),\n",
              "                   n_iter=200, n_jobs=1,\n",
              "                   param_distributions={'penalty': ['none', 'l2'],\n",
              "                                        'solver': ['lbfgs', 'liblinear']},\n",
              "                   random_state=54836, scoring='roc_auc', verbose=10)"
            ]
          },
          "metadata": {},
          "execution_count": 11
        }
      ]
    },
    {
      "cell_type": "code",
      "metadata": {
        "colab": {
          "base_uri": "https://localhost:8080/"
        },
        "id": "oYL9PPP1rFn8",
        "outputId": "e45e632a-c915-4e8a-be18-ec8ddaff33c5"
      },
      "source": [
        "#AUC ROC score for prediction made with the train set\n",
        "from sklearn.metrics import roc_auc_score\n",
        "roc_auc_score(train_target, search.predict_proba(train)[:, 1])"
      ],
      "execution_count": null,
      "outputs": [
        {
          "output_type": "execute_result",
          "data": {
            "text/plain": [
              "0.687277687203347"
            ]
          },
          "metadata": {},
          "execution_count": 12
        }
      ]
    },
    {
      "cell_type": "code",
      "metadata": {
        "id": "X7_s5a6avbhI"
      },
      "source": [
        "#this is done because there are object values in the validation set that dont apear in the train set so they arent encoded\n",
        "#this values are encoded with the mean value of the column in the train set\n",
        "columns_new_values = []\n",
        "for column in train:\n",
        "  validation[column] = validation[column].map(lambda x: x if np.isreal(x) else train[column].mean())\n",
        "  df_test[column] = df_test[column].map(lambda x: x if np.isreal(x) else train[column].mean())"
      ],
      "execution_count": null,
      "outputs": []
    },
    {
      "cell_type": "code",
      "metadata": {
        "colab": {
          "base_uri": "https://localhost:8080/"
        },
        "id": "hEegSK5usgkm",
        "outputId": "58a6f00f-8a45-4ec8-bb55-b24658a1ef98"
      },
      "source": [
        "#AUC ROC score for prediction made with the validation set\n",
        "roc_auc_score(validation_target, search.predict_proba(validation)[:, 1])"
      ],
      "execution_count": null,
      "outputs": [
        {
          "output_type": "execute_result",
          "data": {
            "text/plain": [
              "0.6972313723298399"
            ]
          },
          "metadata": {},
          "execution_count": 14
        }
      ]
    },
    {
      "cell_type": "code",
      "metadata": {
        "colab": {
          "base_uri": "https://localhost:8080/"
        },
        "id": "ZvvBoblxFgQB",
        "outputId": "cc9053ec-dd99-4d4a-817b-88f8d7db9e55"
      },
      "source": [
        "train = None\n",
        "validation = None\n",
        "gc.collect()"
      ],
      "execution_count": null,
      "outputs": [
        {
          "output_type": "execute_result",
          "data": {
            "text/plain": [
              "148"
            ]
          },
          "metadata": {},
          "execution_count": 15
        }
      ]
    },
    {
      "cell_type": "code",
      "metadata": {
        "colab": {
          "base_uri": "https://localhost:8080/",
          "height": 904
        },
        "id": "Rbv3S3AWCC5F",
        "outputId": "86db83ea-4fbf-48a1-96d8-655f6eef44d7"
      },
      "source": [
        "#visualization of the model's weights\n",
        "#this gives an idea of witch features are more important\n",
        "import matplotlib.pyplot as plt\n",
        "from matplotlib.pyplot import figure\n",
        "weights = search.best_estimator_.coef_[0]\n",
        "abs_mean = np.abs(weights).mean()\n",
        "columns = df_test.columns\n",
        "wanted_weights = {}\n",
        "for i, v in enumerate(weights): #this loop filters out small values to make the graph more understandable\n",
        "  if abs(v) > abs_mean * 4:\n",
        "    wanted_weights[columns[i]] = v\n",
        "\n",
        "figure(figsize=(20, 15), dpi=80)\n",
        "y_pos = np.arange(len(wanted_weights))\n",
        "plt.bar(y_pos, wanted_weights.values())\n",
        "plt.xticks(y_pos, wanted_weights.keys())\n",
        "plt.show()"
      ],
      "execution_count": null,
      "outputs": [
        {
          "output_type": "display_data",
          "data": {
            "image/png": "[encoded data removed]",
            "text/plain": [
              "<Figure size 1600x1200 with 1 Axes>"
            ]
          },
          "metadata": {
            "needs_background": "light"
          }
        }
      ]
    },
    {
      "cell_type": "code",
      "metadata": {
        "colab": {
          "base_uri": "https://localhost:8080/"
        },
        "id": "58Ng7GH53YrI",
        "outputId": "8193fd69-0fbf-4fa9-9aa9-88a5793d3bdf"
      },
      "source": [
        "gc.collect()"
      ],
      "execution_count": null,
      "outputs": [
        {
          "output_type": "execute_result",
          "data": {
            "text/plain": [
              "5923"
            ]
          },
          "metadata": {},
          "execution_count": 17
        }
      ]
    },
    {
      "cell_type": "code",
      "metadata": {
        "colab": {
          "base_uri": "https://localhost:8080/",
          "height": 17
        },
        "id": "KBVAq7bPUxUK",
        "outputId": "26d9c87c-50a1-4811-e09d-fed19a14daa7"
      },
      "source": [
        "#run this to download the tests predictions csv\n",
        "from google.colab import files\n",
        "predictions = search.predict_proba(df_test)\n",
        "predictions_df = pd.DataFrame(data=predictions[:, 1], columns=['isFraud'])\n",
        "save = pd.concat([pd.Series(df_test_t_id.tolist()), predictions_df], axis=1)\n",
        "save.columns = ['TransactionID', 'isFraud']\n",
        "save.to_csv('prediction.csv', index = False)\n",
        "files.download(\"prediction.csv\")"
      ],
      "execution_count": null,
      "outputs": [
        {
          "output_type": "display_data",
          "data": {
            "application/javascript": [
              "\n",
              "    async function download(id, filename, size) {\n",
              "      if (!google.colab.kernel.accessAllowed) {\n",
              "        return;\n",
              "      }\n",
              "      const div = document.createElement('div');\n",
              "      const label = document.createElement('label');\n",
              "      label.textContent = `Downloading \"${filename}\": `;\n",
              "      div.appendChild(label);\n",
              "      const progress = document.createElement('progress');\n",
              "      progress.max = size;\n",
              "      div.appendChild(progress);\n",
              "      document.body.appendChild(div);\n",
              "\n",
              "      const buffers = [];\n",
              "      let downloaded = 0;\n",
              "\n",
              "      const channel = await google.colab.kernel.comms.open(id);\n",
              "      // Send a message to notify the kernel that we're ready.\n",
              "      channel.send({})\n",
              "\n",
              "      for await (const message of channel.messages) {\n",
              "        // Send a message to notify the kernel that we're ready.\n",
              "        channel.send({})\n",
              "        if (message.buffers) {\n",
              "          for (const buffer of message.buffers) {\n",
              "            buffers.push(buffer);\n",
              "            downloaded += buffer.byteLength;\n",
              "            progress.value = downloaded;\n",
              "          }\n",
              "        }\n",
              "      }\n",
              "      const blob = new Blob(buffers, {type: 'application/binary'});\n",
              "      const a = document.createElement('a');\n",
              "      a.href = window.URL.createObjectURL(blob);\n",
              "      a.download = filename;\n",
              "      div.appendChild(a);\n",
              "      a.click();\n",
              "      div.remove();\n",
              "    }\n",
              "  "
            ],
            "text/plain": [
              "<IPython.core.display.Javascript object>"
            ]
          },
          "metadata": {}
        },
        {
          "output_type": "display_data",
          "data": {
            "application/javascript": [
              "download(\"download_8dc7a1de-cc7c-4386-9570-a17b1a556e77\", \"prediction.csv\", 14260700)"
            ],
            "text/plain": [
              "<IPython.core.display.Javascript object>"
            ]
          },
          "metadata": {}
        }
      ]
    },
    {
      "cell_type": "markdown",
      "metadata": {
        "id": "lRDjmvA_ZFJM"
      },
      "source": [
        "![score_regression.png](data:image/png;base64,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)"
      ]
    }
  ]
}